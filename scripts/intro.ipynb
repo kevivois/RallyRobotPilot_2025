{
 "cells": [
  {
   "cell_type": "code",
   "execution_count": 8,
   "id": "4cd227d6",
   "metadata": {},
   "outputs": [
    {
     "name": "stdout",
     "output_type": "stream",
     "text": [
      "1 0 0 1\n",
      "1 0 0 1\n",
      "0 0 0 0\n",
      "0 0 0 0\n",
      "0 0 0 0\n",
      "0 0 0 0\n",
      "0 0 0 0\n",
      "0 0 0 0\n",
      "0 0 0 0\n"
     ]
    }
   ],
   "source": [
    "import lzma\n",
    "import pickle\n",
    "\n",
    "# Charger directement sans vérifier le protocole\n",
    "with lzma.open(\"../record_3.npz\", \"rb\") as file:\n",
    "    data = pickle.load(file)\n",
    "    \n",
    "    for e in data:\n",
    "        print(*e.current_controls)"
   ]
  }
 ],
 "metadata": {
  "kernelspec": {
   "display_name": "RallyRobotPilot_2025",
   "language": "python",
   "name": "python3"
  },
  "language_info": {
   "codemirror_mode": {
    "name": "ipython",
    "version": 3
   },
   "file_extension": ".py",
   "mimetype": "text/x-python",
   "name": "python",
   "nbconvert_exporter": "python",
   "pygments_lexer": "ipython3",
   "version": "3.12.3"
  }
 },
 "nbformat": 4,
 "nbformat_minor": 5
}
